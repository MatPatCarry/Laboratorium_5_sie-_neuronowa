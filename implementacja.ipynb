{
 "cells": [
  {
   "attachments": {},
   "cell_type": "markdown",
   "metadata": {},
   "source": [
    "### **Importing needed libraries**"
   ]
  },
  {
   "cell_type": "code",
   "execution_count": 1,
   "metadata": {},
   "outputs": [],
   "source": [
    "import pandas as pd\n",
    "import numpy as np\n",
    "import tensorflow as tf\n",
    "import keras\n",
    "import seaborn as sns\n",
    "import os\n",
    "from sklearn.model_selection import train_test_split\n",
    "import keras_tuner as kt\n",
    "from keras.callbacks import EarlyStopping, ReduceLROnPlateau, ModelCheckpoint, CSVLogger\n",
    "from sklearn.metrics import mean_absolute_error, mean_squared_error\n",
    "import matplotlib.pyplot as plt\n",
    "from sklearn.model_selection import KFold\n",
    "from IPython.display import display, Markdown\n",
    "from math import fabs\n",
    "import json"
   ]
  },
  {
   "attachments": {},
   "cell_type": "markdown",
   "metadata": {},
   "source": [
    "### **Load data**"
   ]
  },
  {
   "cell_type": "code",
   "execution_count": 2,
   "metadata": {},
   "outputs": [],
   "source": [
    "PATH_TO_DATA = \"radio_train\"\n",
    "PATH_TO_MODEL = \"models\"\n",
    "PATH_TO_HISTORIES = \"learning_histories\""
   ]
  },
  {
   "cell_type": "code",
   "execution_count": 3,
   "metadata": {},
   "outputs": [],
   "source": [
    "input_df = pd.read_csv(os.path.join(PATH_TO_DATA, os.listdir(PATH_TO_DATA)[0]), names=[f\"o{i}\" for i in range(1, 17)])\n",
    "target_df = pd.read_csv(os.path.join(PATH_TO_DATA, os.listdir(PATH_TO_DATA)[1]), names=[\"x_cord\", \"y_cord\", \"error\"])"
   ]
  },
  {
   "cell_type": "code",
   "execution_count": 4,
   "metadata": {},
   "outputs": [
    {
     "data": {
      "text/html": [
       "<div>\n",
       "<style scoped>\n",
       "    .dataframe tbody tr th:only-of-type {\n",
       "        vertical-align: middle;\n",
       "    }\n",
       "\n",
       "    .dataframe tbody tr th {\n",
       "        vertical-align: top;\n",
       "    }\n",
       "\n",
       "    .dataframe thead th {\n",
       "        text-align: right;\n",
       "    }\n",
       "</style>\n",
       "<table border=\"1\" class=\"dataframe\">\n",
       "  <thead>\n",
       "    <tr style=\"text-align: right;\">\n",
       "      <th></th>\n",
       "      <th>o1</th>\n",
       "      <th>o2</th>\n",
       "      <th>o3</th>\n",
       "      <th>o4</th>\n",
       "      <th>o5</th>\n",
       "      <th>o6</th>\n",
       "      <th>o7</th>\n",
       "      <th>o8</th>\n",
       "      <th>o9</th>\n",
       "      <th>o10</th>\n",
       "      <th>o11</th>\n",
       "      <th>o12</th>\n",
       "      <th>o13</th>\n",
       "      <th>o14</th>\n",
       "      <th>o15</th>\n",
       "      <th>o16</th>\n",
       "    </tr>\n",
       "  </thead>\n",
       "  <tbody>\n",
       "    <tr>\n",
       "      <th>0</th>\n",
       "      <td>0.325311</td>\n",
       "      <td>0.355525</td>\n",
       "      <td>0.397343</td>\n",
       "      <td>0.284162</td>\n",
       "      <td>0.408696</td>\n",
       "      <td>0.853002</td>\n",
       "      <td>0.481582</td>\n",
       "      <td>0.365663</td>\n",
       "      <td>0.624396</td>\n",
       "      <td>0.630032</td>\n",
       "      <td>0.277494</td>\n",
       "      <td>0.135749</td>\n",
       "      <td>0.222464</td>\n",
       "      <td>0.361413</td>\n",
       "      <td>0.302174</td>\n",
       "      <td>0.125000</td>\n",
       "    </tr>\n",
       "    <tr>\n",
       "      <th>1</th>\n",
       "      <td>0.322621</td>\n",
       "      <td>0.348229</td>\n",
       "      <td>0.426276</td>\n",
       "      <td>0.285427</td>\n",
       "      <td>0.404809</td>\n",
       "      <td>0.853958</td>\n",
       "      <td>0.480490</td>\n",
       "      <td>0.371696</td>\n",
       "      <td>0.617918</td>\n",
       "      <td>0.633816</td>\n",
       "      <td>0.280904</td>\n",
       "      <td>0.128623</td>\n",
       "      <td>0.246894</td>\n",
       "      <td>0.367754</td>\n",
       "      <td>0.316667</td>\n",
       "      <td>0.098551</td>\n",
       "    </tr>\n",
       "    <tr>\n",
       "      <th>2</th>\n",
       "      <td>0.323370</td>\n",
       "      <td>0.346121</td>\n",
       "      <td>0.439242</td>\n",
       "      <td>0.280596</td>\n",
       "      <td>0.405495</td>\n",
       "      <td>0.853002</td>\n",
       "      <td>0.486542</td>\n",
       "      <td>0.363872</td>\n",
       "      <td>0.619163</td>\n",
       "      <td>0.627599</td>\n",
       "      <td>0.288647</td>\n",
       "      <td>0.135393</td>\n",
       "      <td>0.229469</td>\n",
       "      <td>0.358696</td>\n",
       "      <td>0.306612</td>\n",
       "      <td>0.102355</td>\n",
       "    </tr>\n",
       "    <tr>\n",
       "      <th>3</th>\n",
       "      <td>0.324827</td>\n",
       "      <td>0.342754</td>\n",
       "      <td>0.432174</td>\n",
       "      <td>0.276641</td>\n",
       "      <td>0.405217</td>\n",
       "      <td>0.853002</td>\n",
       "      <td>0.482163</td>\n",
       "      <td>0.361514</td>\n",
       "      <td>0.614332</td>\n",
       "      <td>0.630120</td>\n",
       "      <td>0.285507</td>\n",
       "      <td>0.131550</td>\n",
       "      <td>0.230490</td>\n",
       "      <td>0.365942</td>\n",
       "      <td>0.317391</td>\n",
       "      <td>0.111111</td>\n",
       "    </tr>\n",
       "    <tr>\n",
       "      <th>4</th>\n",
       "      <td>0.325362</td>\n",
       "      <td>0.347497</td>\n",
       "      <td>0.439538</td>\n",
       "      <td>0.283126</td>\n",
       "      <td>0.416476</td>\n",
       "      <td>0.852484</td>\n",
       "      <td>0.486473</td>\n",
       "      <td>0.361660</td>\n",
       "      <td>0.616667</td>\n",
       "      <td>0.628909</td>\n",
       "      <td>0.288768</td>\n",
       "      <td>0.127415</td>\n",
       "      <td>0.240777</td>\n",
       "      <td>0.362319</td>\n",
       "      <td>0.304865</td>\n",
       "      <td>0.112319</td>\n",
       "    </tr>\n",
       "  </tbody>\n",
       "</table>\n",
       "</div>"
      ],
      "text/plain": [
       "         o1        o2        o3        o4        o5        o6        o7  \\\n",
       "0  0.325311  0.355525  0.397343  0.284162  0.408696  0.853002  0.481582   \n",
       "1  0.322621  0.348229  0.426276  0.285427  0.404809  0.853958  0.480490   \n",
       "2  0.323370  0.346121  0.439242  0.280596  0.405495  0.853002  0.486542   \n",
       "3  0.324827  0.342754  0.432174  0.276641  0.405217  0.853002  0.482163   \n",
       "4  0.325362  0.347497  0.439538  0.283126  0.416476  0.852484  0.486473   \n",
       "\n",
       "         o8        o9       o10       o11       o12       o13       o14  \\\n",
       "0  0.365663  0.624396  0.630032  0.277494  0.135749  0.222464  0.361413   \n",
       "1  0.371696  0.617918  0.633816  0.280904  0.128623  0.246894  0.367754   \n",
       "2  0.363872  0.619163  0.627599  0.288647  0.135393  0.229469  0.358696   \n",
       "3  0.361514  0.614332  0.630120  0.285507  0.131550  0.230490  0.365942   \n",
       "4  0.361660  0.616667  0.628909  0.288768  0.127415  0.240777  0.362319   \n",
       "\n",
       "        o15       o16  \n",
       "0  0.302174  0.125000  \n",
       "1  0.316667  0.098551  \n",
       "2  0.306612  0.102355  \n",
       "3  0.317391  0.111111  \n",
       "4  0.304865  0.112319  "
      ]
     },
     "execution_count": 4,
     "metadata": {},
     "output_type": "execute_result"
    }
   ],
   "source": [
    "input_df.head(5)"
   ]
  },
  {
   "cell_type": "code",
   "execution_count": 5,
   "metadata": {},
   "outputs": [
    {
     "data": {
      "text/plain": [
       "o1     0.883632\n",
       "o2     0.942754\n",
       "o3     0.965294\n",
       "o4     0.818414\n",
       "o5     0.968917\n",
       "o6     0.865106\n",
       "o7     0.890359\n",
       "o8     0.934783\n",
       "o9     0.955448\n",
       "o10    0.818841\n",
       "o11    0.810716\n",
       "o12    0.832497\n",
       "o13    0.901895\n",
       "o14    0.896262\n",
       "o15    0.942935\n",
       "o16    0.855073\n",
       "dtype: float64"
      ]
     },
     "execution_count": 5,
     "metadata": {},
     "output_type": "execute_result"
    }
   ],
   "source": [
    "input_df.max()"
   ]
  },
  {
   "cell_type": "code",
   "execution_count": 6,
   "metadata": {},
   "outputs": [
    {
     "data": {
      "text/plain": [
       "o1     0.198240\n",
       "o2     0.197971\n",
       "o3     0.169011\n",
       "o4     0.127847\n",
       "o5     0.107661\n",
       "o6     0.000000\n",
       "o7     0.121830\n",
       "o8     0.233243\n",
       "o9     0.309179\n",
       "o10    0.067194\n",
       "o11    0.075052\n",
       "o12    0.000000\n",
       "o13    0.194099\n",
       "o14    0.161685\n",
       "o15    0.146042\n",
       "o16    0.000000\n",
       "dtype: float64"
      ]
     },
     "execution_count": 6,
     "metadata": {},
     "output_type": "execute_result"
    }
   ],
   "source": [
    "input_df.min()"
   ]
  },
  {
   "attachments": {},
   "cell_type": "markdown",
   "metadata": {},
   "source": [
    "### **Changing data types in order to reduce memory usage**"
   ]
  },
  {
   "cell_type": "code",
   "execution_count": 7,
   "metadata": {},
   "outputs": [],
   "source": [
    "input_df = input_df.astype({col: np.float32 for col in input_df.columns})"
   ]
  },
  {
   "cell_type": "code",
   "execution_count": 8,
   "metadata": {},
   "outputs": [
    {
     "data": {
      "image/png": "[encoded data removed]",
      "text/plain": [
       "<Figure size 1584x864 with 16 Axes>"
      ]
     },
     "metadata": {
      "needs_background": "light"
     },
     "output_type": "display_data"
    }
   ],
   "source": [
    "fig, ax = plt.subplots(4, 4, figsize=(22, 12))\n",
    "for i, column in enumerate(input_df.columns):\n",
    "    ax[i // 4, i % 4].hist(input_df[\"o1\"], bins=100)\n",
    "    ax[i // 4, i % 4].set_title(column)\n",
    "\n",
    "plt.tight_layout()\n",
    "plt.savefig(\"images/output4.png\")"
   ]
  },
  {
   "cell_type": "code",
   "execution_count": 9,
   "metadata": {},
   "outputs": [
    {
     "data": {
      "text/plain": [
       "o1     float32\n",
       "o2     float32\n",
       "o3     float32\n",
       "o4     float32\n",
       "o5     float32\n",
       "o6     float32\n",
       "o7     float32\n",
       "o8     float32\n",
       "o9     float32\n",
       "o10    float32\n",
       "o11    float32\n",
       "o12    float32\n",
       "o13    float32\n",
       "o14    float32\n",
       "o15    float32\n",
       "o16    float32\n",
       "dtype: object"
      ]
     },
     "execution_count": 9,
     "metadata": {},
     "output_type": "execute_result"
    }
   ],
   "source": [
    "input_df.dtypes"
   ]
  },
  {
   "cell_type": "code",
   "execution_count": 10,
   "metadata": {},
   "outputs": [
    {
     "data": {
      "text/plain": [
       "0.0    2160\n",
       "Name: error, dtype: int64"
      ]
     },
     "execution_count": 10,
     "metadata": {},
     "output_type": "execute_result"
    }
   ],
   "source": [
    "target_df['error'].value_counts()"
   ]
  },
  {
   "attachments": {},
   "cell_type": "markdown",
   "metadata": {},
   "source": [
    "### **Dropping column which does not provide any information**"
   ]
  },
  {
   "cell_type": "code",
   "execution_count": 11,
   "metadata": {},
   "outputs": [],
   "source": [
    "target_df = target_df.drop(columns=['error'], axis=1)"
   ]
  },
  {
   "attachments": {},
   "cell_type": "markdown",
   "metadata": {},
   "source": [
    "### **Checking missing values**"
   ]
  },
  {
   "cell_type": "code",
   "execution_count": 12,
   "metadata": {},
   "outputs": [
    {
     "data": {
      "text/plain": [
       "o1     0\n",
       "o2     0\n",
       "o3     0\n",
       "o4     0\n",
       "o5     0\n",
       "o6     0\n",
       "o7     0\n",
       "o8     0\n",
       "o9     0\n",
       "o10    0\n",
       "o11    0\n",
       "o12    0\n",
       "o13    0\n",
       "o14    0\n",
       "o15    0\n",
       "o16    0\n",
       "dtype: int64"
      ]
     },
     "execution_count": 12,
     "metadata": {},
     "output_type": "execute_result"
    }
   ],
   "source": [
    "input_df.isna().sum()"
   ]
  },
  {
   "cell_type": "code",
   "execution_count": 13,
   "metadata": {},
   "outputs": [
    {
     "data": {
      "text/plain": [
       "x_cord    0\n",
       "y_cord    0\n",
       "dtype: int64"
      ]
     },
     "execution_count": 13,
     "metadata": {},
     "output_type": "execute_result"
    }
   ],
   "source": [
    "target_df.isna().sum()"
   ]
  },
  {
   "attachments": {},
   "cell_type": "markdown",
   "metadata": {},
   "source": [
    "### **Normalization**"
   ]
  },
  {
   "cell_type": "code",
   "execution_count": 14,
   "metadata": {},
   "outputs": [],
   "source": [
    "def normalize(x_array: np.array) -> np.array:\n",
    "\n",
    "    max_value, min_value = max(x_array), min(x_array)\n",
    "    return (x_array - min_value) / (max_value - min_value)\n"
   ]
  },
  {
   "cell_type": "code",
   "execution_count": 15,
   "metadata": {},
   "outputs": [],
   "source": [
    "input_df = input_df.apply(normalize, axis=1)"
   ]
  },
  {
   "attachments": {},
   "cell_type": "markdown",
   "metadata": {},
   "source": [
    "### **Splitting into train, validation and test sets**"
   ]
  },
  {
   "cell_type": "code",
   "execution_count": 16,
   "metadata": {},
   "outputs": [],
   "source": [
    "x_train_b, x_test, y_train_b, y_test = train_test_split(input_df, target_df, train_size=0.8, random_state=42)"
   ]
  },
  {
   "cell_type": "code",
   "execution_count": 17,
   "metadata": {},
   "outputs": [
    {
     "data": {
      "text/plain": [
       "((1728, 16), (432, 16), (1728, 2), (432, 2))"
      ]
     },
     "execution_count": 17,
     "metadata": {},
     "output_type": "execute_result"
    }
   ],
   "source": [
    "x_train_b.shape, x_test.shape, y_train_b.shape, y_test.shape"
   ]
  },
  {
   "cell_type": "code",
   "execution_count": 18,
   "metadata": {},
   "outputs": [],
   "source": [
    "x_train, x_val, y_train, y_val = train_test_split(x_train_b, y_train_b, train_size=0.8, random_state=42)"
   ]
  },
  {
   "cell_type": "code",
   "execution_count": 20,
   "metadata": {},
   "outputs": [
    {
     "data": {
      "text/plain": [
       "((1382, 16), (346, 16), (1382, 2), (346, 2))"
      ]
     },
     "execution_count": 20,
     "metadata": {},
     "output_type": "execute_result"
    }
   ],
   "source": [
    "x_train.shape, x_val.shape, y_train.shape, y_val.shape"
   ]
  },
  {
   "attachments": {},
   "cell_type": "markdown",
   "metadata": {},
   "source": [
    "### **Chosing best hyperparameters by means of keras Hyperband**"
   ]
  },
  {
   "cell_type": "code",
   "execution_count": 50,
   "metadata": {},
   "outputs": [],
   "source": [
    "def build_model(hp):\n",
    "    \n",
    "    n_hidden = hp.Int(\"n_hidden\", min_value=0, max_value=4, default=2)\n",
    "    n_neurons = hp.Int(\"n_neurons\", min_value=8, max_value=64, step=8)\n",
    "    lr = hp.Choice(\"learning_rate\", [1e-5, 5e-5, 1e-4, 5e-4, 1e-3, 5e-4, 1e-2, 5e-2])\n",
    "    optimizer = tf.keras.optimizers.Adam(learning_rate=lr)\n",
    "\n",
    "    model = tf.keras.Sequential()\n",
    "    model.add(tf.keras.layers.Flatten())\n",
    "    \n",
    "    for _ in range(n_hidden):\n",
    "        model.add(tf.keras.layers.Dense(n_neurons, activation=\"elu\"))\n",
    "        model.add(tf.keras.layers.Dropout(0.15))\n",
    "    model.add(tf.keras.layers.Dense(2))\n",
    "\n",
    "    model.compile(loss=\"mean_squared_error\", \n",
    "                  optimizer=optimizer,\n",
    "                  metrics=[\"mean_absolute_error\"])\n",
    "                  \n",
    "    return model"
   ]
  },
  {
   "cell_type": "code",
   "execution_count": 51,
   "metadata": {},
   "outputs": [],
   "source": [
    "path_to_csv_results = os.path.join(\"results\", \"train_history.csv\")"
   ]
  },
  {
   "cell_type": "code",
   "execution_count": 19,
   "metadata": {},
   "outputs": [],
   "source": [
    "callbacks = [EarlyStopping(monitor='val_loss', patience=35, restore_best_weights=True),\n",
    "             ReduceLROnPlateau(monitor='val_loss', factor=0.5, patience=10)]"
   ]
  },
  {
   "cell_type": "code",
   "execution_count": 88,
   "metadata": {},
   "outputs": [],
   "source": [
    "hyperband_tuner = kt.Hyperband(build_model, \n",
    "                               objective=\"val_loss\", \n",
    "                               seed=42,\n",
    "                               max_epochs=120, \n",
    "                               factor=3,\n",
    "                               hyperband_iterations=2,\n",
    "                               overwrite=True, \n",
    "                               directory=\"hyperband\", \n",
    "                               project_name=\"hyperband_2\")"
   ]
  },
  {
   "cell_type": "code",
   "execution_count": 89,
   "metadata": {},
   "outputs": [
    {
     "name": "stdout",
     "output_type": "stream",
     "text": [
      "Trial 508 Complete [00h 00m 09s]\n",
      "val_loss: 0.02319932170212269\n",
      "\n",
      "Best val_loss So Far: 4.8419100494356826e-05\n",
      "Total elapsed time: 00h 11m 35s\n",
      "INFO:tensorflow:Oracle triggered exit\n"
     ]
    }
   ],
   "source": [
    "hyperband_tuner.search(x_train, \n",
    "                       y_train,\n",
    "                       epochs=120,\n",
    "                       validation_data=(x_val, y_val),\n",
    "                       callbacks=callbacks)"
   ]
  },
  {
   "cell_type": "code",
   "execution_count": 20,
   "metadata": {},
   "outputs": [
    {
     "data": {
      "text/plain": [
       "{'no_dropout_120_epochs': {'n_hidden': 4,\n",
       "  'n_neurons': 64,\n",
       "  'learning_rate': 0.01,\n",
       "  'dropout': False},\n",
       " 'dropout_120_epochs': {'n_hidden': 4,\n",
       "  'n_neurons': 40,\n",
       "  'learning_rate': 0.01,\n",
       "  'dropout': True}}"
      ]
     },
     "execution_count": 20,
     "metadata": {},
     "output_type": "execute_result"
    }
   ],
   "source": [
    "with open(os.path.join(\"best_params_config\", \"params_config.json\"), \"r\") as f:\n",
    "    params_config = json.load(f)\n",
    "    \n",
    "params_config"
   ]
  },
  {
   "cell_type": "code",
   "execution_count": 21,
   "metadata": {},
   "outputs": [],
   "source": [
    "def build_model_from_params(n_neurons: int, \n",
    "                            n_hidden: int, \n",
    "                            learning_rate: float, \n",
    "                            dropout=False) -> tf.keras.Sequential:\n",
    "\n",
    "    optimizer = tf.keras.optimizers.Adam(learning_rate=learning_rate)\n",
    "\n",
    "    model = tf.keras.Sequential()\n",
    "    model.add(tf.keras.layers.Flatten())\n",
    "\n",
    "    for _ in range(n_hidden):\n",
    "        \n",
    "        model.add(tf.keras.layers.Dense(n_neurons, activation=\"elu\"))\n",
    "        if dropout:\n",
    "            model.add(tf.keras.layers.Dropout(0.15))\n",
    "\n",
    "    model.add(tf.keras.layers.Dense(2))\n",
    "\n",
    "    model.compile(loss=\"mean_squared_error\", \n",
    "                  optimizer=optimizer,\n",
    "                  metrics=[\"mean_absolute_error\"])\n",
    "    \n",
    "    return model "
   ]
  },
  {
   "cell_type": "code",
   "execution_count": 23,
   "metadata": {},
   "outputs": [],
   "source": [
    "chosen_model = \"no_dropout_120_epochs\"\n",
    "model_config = params_config[chosen_model]"
   ]
  },
  {
   "cell_type": "code",
   "execution_count": 24,
   "metadata": {},
   "outputs": [],
   "source": [
    "best_model_from_params = build_model_from_params(model_config['n_neurons'],\n",
    "                                                 model_config['n_hidden'],\n",
    "                                                 model_config['learning_rate'],\n",
    "                                                 model_config['dropout'])"
   ]
  },
  {
   "cell_type": "code",
   "execution_count": 25,
   "metadata": {},
   "outputs": [
    {
     "name": "stdout",
     "output_type": "stream",
     "text": [
      "Epoch 1/120\n",
      "44/44 [==============================] - 1s 5ms/step - loss: 0.0455 - mean_absolute_error: 0.1363 - val_loss: 0.0012 - val_mean_absolute_error: 0.0274 - lr: 0.0100\n",
      "Epoch 2/120\n",
      "44/44 [==============================] - 0s 2ms/step - loss: 0.0035 - mean_absolute_error: 0.0463 - val_loss: 8.1980e-04 - val_mean_absolute_error: 0.0231 - lr: 0.0100\n",
      "Epoch 3/120\n",
      "44/44 [==============================] - 0s 1ms/step - loss: 0.0021 - mean_absolute_error: 0.0365 - val_loss: 7.6597e-04 - val_mean_absolute_error: 0.0220 - lr: 0.0100\n",
      "Epoch 4/120\n",
      "44/44 [==============================] - 0s 2ms/step - loss: 0.0018 - mean_absolute_error: 0.0340 - val_loss: 7.4992e-04 - val_mean_absolute_error: 0.0215 - lr: 0.0100\n",
      "Epoch 5/120\n",
      "44/44 [==============================] - 0s 2ms/step - loss: 0.0016 - mean_absolute_error: 0.0319 - val_loss: 7.3822e-04 - val_mean_absolute_error: 0.0215 - lr: 0.0100\n",
      "Epoch 6/120\n",
      "44/44 [==============================] - 0s 2ms/step - loss: 0.0015 - mean_absolute_error: 0.0312 - val_loss: 6.9225e-04 - val_mean_absolute_error: 0.0207 - lr: 0.0100\n",
      "Epoch 7/120\n",
      "44/44 [==============================] - 0s 2ms/step - loss: 0.0014 - mean_absolute_error: 0.0293 - val_loss: 6.3903e-04 - val_mean_absolute_error: 0.0204 - lr: 0.0100\n",
      "Epoch 8/120\n",
      "44/44 [==============================] - 0s 2ms/step - loss: 0.0013 - mean_absolute_error: 0.0288 - val_loss: 6.8355e-04 - val_mean_absolute_error: 0.0210 - lr: 0.0100\n",
      "Epoch 9/120\n",
      "44/44 [==============================] - 0s 2ms/step - loss: 0.0012 - mean_absolute_error: 0.0275 - val_loss: 6.0788e-04 - val_mean_absolute_error: 0.0197 - lr: 0.0100\n",
      "Epoch 10/120\n",
      "44/44 [==============================] - 0s 2ms/step - loss: 0.0011 - mean_absolute_error: 0.0270 - val_loss: 5.9355e-04 - val_mean_absolute_error: 0.0197 - lr: 0.0100\n",
      "Epoch 11/120\n",
      "44/44 [==============================] - 0s 2ms/step - loss: 0.0011 - mean_absolute_error: 0.0264 - val_loss: 6.2433e-04 - val_mean_absolute_error: 0.0201 - lr: 0.0100\n",
      "Epoch 12/120\n",
      "44/44 [==============================] - 0s 2ms/step - loss: 0.0010 - mean_absolute_error: 0.0255 - val_loss: 5.9069e-04 - val_mean_absolute_error: 0.0195 - lr: 0.0100\n",
      "Epoch 13/120\n",
      "44/44 [==============================] - 0s 2ms/step - loss: 9.9254e-04 - mean_absolute_error: 0.0250 - val_loss: 6.1256e-04 - val_mean_absolute_error: 0.0197 - lr: 0.0100\n",
      "Epoch 14/120\n",
      "44/44 [==============================] - 0s 1ms/step - loss: 0.0010 - mean_absolute_error: 0.0258 - val_loss: 6.7481e-04 - val_mean_absolute_error: 0.0213 - lr: 0.0100\n",
      "Epoch 15/120\n",
      "44/44 [==============================] - 0s 2ms/step - loss: 9.7342e-04 - mean_absolute_error: 0.0249 - val_loss: 5.7528e-04 - val_mean_absolute_error: 0.0192 - lr: 0.0100\n",
      "Epoch 16/120\n",
      "44/44 [==============================] - 0s 2ms/step - loss: 9.3789e-04 - mean_absolute_error: 0.0245 - val_loss: 5.7207e-04 - val_mean_absolute_error: 0.0190 - lr: 0.0100\n",
      "Epoch 17/120\n",
      "44/44 [==============================] - 0s 1ms/step - loss: 9.1509e-04 - mean_absolute_error: 0.0239 - val_loss: 5.4580e-04 - val_mean_absolute_error: 0.0188 - lr: 0.0100\n",
      "Epoch 18/120\n",
      "44/44 [==============================] - 0s 2ms/step - loss: 8.9226e-04 - mean_absolute_error: 0.0240 - val_loss: 5.4053e-04 - val_mean_absolute_error: 0.0186 - lr: 0.0100\n",
      "Epoch 19/120\n",
      "44/44 [==============================] - 0s 2ms/step - loss: 8.8229e-04 - mean_absolute_error: 0.0237 - val_loss: 5.6605e-04 - val_mean_absolute_error: 0.0190 - lr: 0.0100\n",
      "Epoch 20/120\n",
      "44/44 [==============================] - 0s 2ms/step - loss: 8.3204e-04 - mean_absolute_error: 0.0231 - val_loss: 6.9882e-04 - val_mean_absolute_error: 0.0213 - lr: 0.0100\n",
      "Epoch 21/120\n",
      "44/44 [==============================] - 0s 2ms/step - loss: 8.4343e-04 - mean_absolute_error: 0.0231 - val_loss: 6.1918e-04 - val_mean_absolute_error: 0.0200 - lr: 0.0100\n",
      "Epoch 22/120\n",
      "44/44 [==============================] - 0s 2ms/step - loss: 8.4156e-04 - mean_absolute_error: 0.0233 - val_loss: 5.5367e-04 - val_mean_absolute_error: 0.0189 - lr: 0.0100\n",
      "Epoch 23/120\n",
      "44/44 [==============================] - 0s 2ms/step - loss: 7.7504e-04 - mean_absolute_error: 0.0222 - val_loss: 5.2621e-04 - val_mean_absolute_error: 0.0184 - lr: 0.0050\n",
      "Epoch 24/120\n",
      "44/44 [==============================] - 0s 2ms/step - loss: 8.1594e-04 - mean_absolute_error: 0.0228 - val_loss: 5.2065e-04 - val_mean_absolute_error: 0.0186 - lr: 0.0050\n",
      "Epoch 25/120\n",
      "44/44 [==============================] - 0s 2ms/step - loss: 7.4464e-04 - mean_absolute_error: 0.0219 - val_loss: 5.4116e-04 - val_mean_absolute_error: 0.0183 - lr: 0.0050\n",
      "Epoch 26/120\n",
      "44/44 [==============================] - 0s 2ms/step - loss: 7.5370e-04 - mean_absolute_error: 0.0219 - val_loss: 5.6748e-04 - val_mean_absolute_error: 0.0190 - lr: 0.0050\n",
      "Epoch 27/120\n",
      "44/44 [==============================] - 0s 2ms/step - loss: 7.4064e-04 - mean_absolute_error: 0.0218 - val_loss: 5.0776e-04 - val_mean_absolute_error: 0.0179 - lr: 0.0050\n",
      "Epoch 28/120\n",
      "44/44 [==============================] - 0s 2ms/step - loss: 7.5439e-04 - mean_absolute_error: 0.0221 - val_loss: 5.2955e-04 - val_mean_absolute_error: 0.0184 - lr: 0.0050\n",
      "Epoch 29/120\n",
      "44/44 [==============================] - 0s 2ms/step - loss: 7.4254e-04 - mean_absolute_error: 0.0219 - val_loss: 5.0931e-04 - val_mean_absolute_error: 0.0181 - lr: 0.0050\n",
      "Epoch 30/120\n",
      "44/44 [==============================] - 0s 2ms/step - loss: 7.5238e-04 - mean_absolute_error: 0.0220 - val_loss: 5.5385e-04 - val_mean_absolute_error: 0.0187 - lr: 0.0050\n",
      "Epoch 31/120\n",
      "44/44 [==============================] - 0s 1ms/step - loss: 7.4759e-04 - mean_absolute_error: 0.0219 - val_loss: 5.7626e-04 - val_mean_absolute_error: 0.0188 - lr: 0.0050\n",
      "Epoch 32/120\n",
      "44/44 [==============================] - 0s 1ms/step - loss: 8.0312e-04 - mean_absolute_error: 0.0225 - val_loss: 5.6541e-04 - val_mean_absolute_error: 0.0191 - lr: 0.0050\n",
      "Epoch 33/120\n",
      "44/44 [==============================] - 0s 2ms/step - loss: 7.1505e-04 - mean_absolute_error: 0.0213 - val_loss: 5.2129e-04 - val_mean_absolute_error: 0.0181 - lr: 0.0025\n",
      "Epoch 34/120\n",
      "44/44 [==============================] - 0s 1ms/step - loss: 7.2561e-04 - mean_absolute_error: 0.0215 - val_loss: 5.3531e-04 - val_mean_absolute_error: 0.0186 - lr: 0.0025\n",
      "Epoch 35/120\n",
      "44/44 [==============================] - 0s 1ms/step - loss: 7.0849e-04 - mean_absolute_error: 0.0213 - val_loss: 5.3819e-04 - val_mean_absolute_error: 0.0185 - lr: 0.0025\n",
      "Epoch 36/120\n",
      "44/44 [==============================] - 0s 2ms/step - loss: 7.0530e-04 - mean_absolute_error: 0.0211 - val_loss: 5.3440e-04 - val_mean_absolute_error: 0.0183 - lr: 0.0025\n",
      "Epoch 37/120\n",
      "44/44 [==============================] - 0s 1ms/step - loss: 7.1690e-04 - mean_absolute_error: 0.0215 - val_loss: 5.1262e-04 - val_mean_absolute_error: 0.0179 - lr: 0.0025\n",
      "Epoch 38/120\n",
      "44/44 [==============================] - 0s 2ms/step - loss: 6.9962e-04 - mean_absolute_error: 0.0211 - val_loss: 5.3666e-04 - val_mean_absolute_error: 0.0185 - lr: 0.0025\n",
      "Epoch 39/120\n",
      "44/44 [==============================] - 0s 2ms/step - loss: 7.2328e-04 - mean_absolute_error: 0.0215 - val_loss: 4.9732e-04 - val_mean_absolute_error: 0.0177 - lr: 0.0025\n",
      "Epoch 40/120\n",
      "44/44 [==============================] - 0s 2ms/step - loss: 6.9751e-04 - mean_absolute_error: 0.0210 - val_loss: 5.2132e-04 - val_mean_absolute_error: 0.0183 - lr: 0.0025\n",
      "Epoch 41/120\n",
      "44/44 [==============================] - 0s 2ms/step - loss: 7.2287e-04 - mean_absolute_error: 0.0214 - val_loss: 4.8811e-04 - val_mean_absolute_error: 0.0177 - lr: 0.0025\n",
      "Epoch 42/120\n",
      "44/44 [==============================] - 0s 1ms/step - loss: 7.2996e-04 - mean_absolute_error: 0.0217 - val_loss: 5.7147e-04 - val_mean_absolute_error: 0.0191 - lr: 0.0025\n",
      "Epoch 43/120\n",
      "44/44 [==============================] - 0s 2ms/step - loss: 7.0480e-04 - mean_absolute_error: 0.0211 - val_loss: 5.3015e-04 - val_mean_absolute_error: 0.0182 - lr: 0.0025\n",
      "Epoch 44/120\n",
      "44/44 [==============================] - 0s 2ms/step - loss: 7.2436e-04 - mean_absolute_error: 0.0214 - val_loss: 5.2867e-04 - val_mean_absolute_error: 0.0183 - lr: 0.0025\n",
      "Epoch 45/120\n",
      "44/44 [==============================] - 0s 2ms/step - loss: 6.9558e-04 - mean_absolute_error: 0.0211 - val_loss: 5.2280e-04 - val_mean_absolute_error: 0.0184 - lr: 0.0025\n",
      "Epoch 46/120\n",
      "44/44 [==============================] - 0s 2ms/step - loss: 7.1041e-04 - mean_absolute_error: 0.0213 - val_loss: 5.2166e-04 - val_mean_absolute_error: 0.0181 - lr: 0.0025\n",
      "Epoch 47/120\n",
      "44/44 [==============================] - 0s 1ms/step - loss: 6.9887e-04 - mean_absolute_error: 0.0214 - val_loss: 4.9786e-04 - val_mean_absolute_error: 0.0178 - lr: 0.0025\n",
      "Epoch 48/120\n",
      "44/44 [==============================] - 0s 2ms/step - loss: 6.9131e-04 - mean_absolute_error: 0.0211 - val_loss: 4.9374e-04 - val_mean_absolute_error: 0.0177 - lr: 0.0025\n",
      "Epoch 49/120\n",
      "44/44 [==============================] - 0s 1ms/step - loss: 7.1815e-04 - mean_absolute_error: 0.0213 - val_loss: 5.5441e-04 - val_mean_absolute_error: 0.0188 - lr: 0.0025\n",
      "Epoch 50/120\n",
      "44/44 [==============================] - 0s 2ms/step - loss: 6.8491e-04 - mean_absolute_error: 0.0208 - val_loss: 4.8856e-04 - val_mean_absolute_error: 0.0178 - lr: 0.0025\n",
      "Epoch 51/120\n",
      "44/44 [==============================] - 0s 2ms/step - loss: 6.8839e-04 - mean_absolute_error: 0.0210 - val_loss: 4.9703e-04 - val_mean_absolute_error: 0.0179 - lr: 0.0025\n",
      "Epoch 52/120\n",
      "44/44 [==============================] - 0s 2ms/step - loss: 6.8990e-04 - mean_absolute_error: 0.0210 - val_loss: 4.9590e-04 - val_mean_absolute_error: 0.0178 - lr: 0.0012\n",
      "Epoch 53/120\n",
      "44/44 [==============================] - 0s 2ms/step - loss: 7.0047e-04 - mean_absolute_error: 0.0211 - val_loss: 5.0251e-04 - val_mean_absolute_error: 0.0179 - lr: 0.0012\n",
      "Epoch 54/120\n",
      "44/44 [==============================] - 0s 1ms/step - loss: 7.0124e-04 - mean_absolute_error: 0.0210 - val_loss: 4.8134e-04 - val_mean_absolute_error: 0.0176 - lr: 0.0012\n",
      "Epoch 55/120\n",
      "44/44 [==============================] - 0s 1ms/step - loss: 6.6537e-04 - mean_absolute_error: 0.0205 - val_loss: 5.2870e-04 - val_mean_absolute_error: 0.0182 - lr: 0.0012\n",
      "Epoch 56/120\n",
      "44/44 [==============================] - 0s 2ms/step - loss: 6.8884e-04 - mean_absolute_error: 0.0209 - val_loss: 5.0951e-04 - val_mean_absolute_error: 0.0180 - lr: 0.0012\n",
      "Epoch 57/120\n",
      "44/44 [==============================] - 0s 2ms/step - loss: 7.0460e-04 - mean_absolute_error: 0.0212 - val_loss: 4.9967e-04 - val_mean_absolute_error: 0.0178 - lr: 0.0012\n",
      "Epoch 58/120\n",
      "44/44 [==============================] - 0s 2ms/step - loss: 6.8299e-04 - mean_absolute_error: 0.0208 - val_loss: 4.8791e-04 - val_mean_absolute_error: 0.0176 - lr: 0.0012\n",
      "Epoch 59/120\n",
      "44/44 [==============================] - 0s 2ms/step - loss: 6.8844e-04 - mean_absolute_error: 0.0209 - val_loss: 5.0485e-04 - val_mean_absolute_error: 0.0179 - lr: 0.0012\n",
      "Epoch 60/120\n",
      "44/44 [==============================] - 0s 2ms/step - loss: 6.7338e-04 - mean_absolute_error: 0.0208 - val_loss: 4.7873e-04 - val_mean_absolute_error: 0.0177 - lr: 0.0012\n",
      "Epoch 61/120\n",
      "44/44 [==============================] - 0s 2ms/step - loss: 6.6143e-04 - mean_absolute_error: 0.0205 - val_loss: 4.9230e-04 - val_mean_absolute_error: 0.0176 - lr: 0.0012\n",
      "Epoch 62/120\n",
      "44/44 [==============================] - 0s 2ms/step - loss: 6.5414e-04 - mean_absolute_error: 0.0207 - val_loss: 4.8695e-04 - val_mean_absolute_error: 0.0177 - lr: 6.2500e-04\n",
      "Epoch 63/120\n",
      "44/44 [==============================] - 0s 2ms/step - loss: 6.9219e-04 - mean_absolute_error: 0.0212 - val_loss: 4.8435e-04 - val_mean_absolute_error: 0.0176 - lr: 6.2500e-04\n",
      "Epoch 64/120\n",
      "44/44 [==============================] - 0s 1ms/step - loss: 6.7085e-04 - mean_absolute_error: 0.0206 - val_loss: 4.7882e-04 - val_mean_absolute_error: 0.0174 - lr: 6.2500e-04\n",
      "Epoch 65/120\n",
      "44/44 [==============================] - 0s 2ms/step - loss: 6.3506e-04 - mean_absolute_error: 0.0203 - val_loss: 4.7870e-04 - val_mean_absolute_error: 0.0175 - lr: 6.2500e-04\n",
      "Epoch 66/120\n",
      "44/44 [==============================] - 0s 2ms/step - loss: 6.7281e-04 - mean_absolute_error: 0.0208 - val_loss: 4.8257e-04 - val_mean_absolute_error: 0.0178 - lr: 6.2500e-04\n",
      "Epoch 67/120\n",
      "44/44 [==============================] - 0s 1ms/step - loss: 6.4994e-04 - mean_absolute_error: 0.0203 - val_loss: 4.7525e-04 - val_mean_absolute_error: 0.0175 - lr: 6.2500e-04\n",
      "Epoch 68/120\n",
      "44/44 [==============================] - 0s 1ms/step - loss: 6.4873e-04 - mean_absolute_error: 0.0203 - val_loss: 4.9071e-04 - val_mean_absolute_error: 0.0177 - lr: 6.2500e-04\n",
      "Epoch 69/120\n",
      "44/44 [==============================] - 0s 2ms/step - loss: 6.5980e-04 - mean_absolute_error: 0.0205 - val_loss: 4.8589e-04 - val_mean_absolute_error: 0.0177 - lr: 6.2500e-04\n",
      "Epoch 70/120\n",
      "44/44 [==============================] - 0s 2ms/step - loss: 6.4901e-04 - mean_absolute_error: 0.0205 - val_loss: 4.7423e-04 - val_mean_absolute_error: 0.0174 - lr: 6.2500e-04\n",
      "Epoch 71/120\n",
      "44/44 [==============================] - 0s 2ms/step - loss: 6.8098e-04 - mean_absolute_error: 0.0208 - val_loss: 4.8814e-04 - val_mean_absolute_error: 0.0177 - lr: 6.2500e-04\n",
      "Epoch 72/120\n",
      "44/44 [==============================] - 0s 2ms/step - loss: 6.3218e-04 - mean_absolute_error: 0.0201 - val_loss: 4.8468e-04 - val_mean_absolute_error: 0.0176 - lr: 3.1250e-04\n",
      "Epoch 73/120\n",
      "44/44 [==============================] - 0s 2ms/step - loss: 6.4598e-04 - mean_absolute_error: 0.0203 - val_loss: 4.8046e-04 - val_mean_absolute_error: 0.0175 - lr: 3.1250e-04\n",
      "Epoch 74/120\n",
      "44/44 [==============================] - 0s 2ms/step - loss: 6.5053e-04 - mean_absolute_error: 0.0203 - val_loss: 4.8294e-04 - val_mean_absolute_error: 0.0176 - lr: 3.1250e-04\n",
      "Epoch 75/120\n",
      "44/44 [==============================] - 0s 2ms/step - loss: 6.4583e-04 - mean_absolute_error: 0.0203 - val_loss: 4.8723e-04 - val_mean_absolute_error: 0.0176 - lr: 3.1250e-04\n",
      "Epoch 76/120\n",
      "44/44 [==============================] - 0s 2ms/step - loss: 6.5699e-04 - mean_absolute_error: 0.0204 - val_loss: 4.7885e-04 - val_mean_absolute_error: 0.0174 - lr: 3.1250e-04\n",
      "Epoch 77/120\n",
      "44/44 [==============================] - 0s 2ms/step - loss: 6.5214e-04 - mean_absolute_error: 0.0204 - val_loss: 4.7658e-04 - val_mean_absolute_error: 0.0174 - lr: 3.1250e-04\n",
      "Epoch 78/120\n",
      "44/44 [==============================] - 0s 2ms/step - loss: 6.6147e-04 - mean_absolute_error: 0.0204 - val_loss: 4.8942e-04 - val_mean_absolute_error: 0.0177 - lr: 3.1250e-04\n",
      "Epoch 79/120\n",
      "44/44 [==============================] - 0s 2ms/step - loss: 6.3961e-04 - mean_absolute_error: 0.0202 - val_loss: 4.7723e-04 - val_mean_absolute_error: 0.0174 - lr: 3.1250e-04\n",
      "Epoch 80/120\n",
      "44/44 [==============================] - 0s 1ms/step - loss: 6.6111e-04 - mean_absolute_error: 0.0204 - val_loss: 4.8382e-04 - val_mean_absolute_error: 0.0175 - lr: 3.1250e-04\n",
      "Epoch 81/120\n",
      "44/44 [==============================] - 0s 2ms/step - loss: 6.7366e-04 - mean_absolute_error: 0.0205 - val_loss: 4.9015e-04 - val_mean_absolute_error: 0.0177 - lr: 3.1250e-04\n",
      "Epoch 82/120\n",
      "44/44 [==============================] - 0s 2ms/step - loss: 6.5143e-04 - mean_absolute_error: 0.0204 - val_loss: 4.7770e-04 - val_mean_absolute_error: 0.0175 - lr: 1.5625e-04\n",
      "Epoch 83/120\n",
      "44/44 [==============================] - 0s 2ms/step - loss: 6.5475e-04 - mean_absolute_error: 0.0203 - val_loss: 4.7752e-04 - val_mean_absolute_error: 0.0175 - lr: 1.5625e-04\n",
      "Epoch 84/120\n",
      "44/44 [==============================] - 0s 2ms/step - loss: 6.6659e-04 - mean_absolute_error: 0.0205 - val_loss: 4.7924e-04 - val_mean_absolute_error: 0.0175 - lr: 1.5625e-04\n",
      "Epoch 85/120\n",
      "44/44 [==============================] - 0s 2ms/step - loss: 6.4841e-04 - mean_absolute_error: 0.0202 - val_loss: 4.7544e-04 - val_mean_absolute_error: 0.0174 - lr: 1.5625e-04\n",
      "Epoch 86/120\n",
      "44/44 [==============================] - 0s 2ms/step - loss: 6.5535e-04 - mean_absolute_error: 0.0203 - val_loss: 4.8318e-04 - val_mean_absolute_error: 0.0175 - lr: 1.5625e-04\n",
      "Epoch 87/120\n",
      "44/44 [==============================] - 0s 2ms/step - loss: 6.5542e-04 - mean_absolute_error: 0.0204 - val_loss: 4.7433e-04 - val_mean_absolute_error: 0.0174 - lr: 1.5625e-04\n",
      "Epoch 88/120\n",
      "44/44 [==============================] - 0s 2ms/step - loss: 6.5560e-04 - mean_absolute_error: 0.0205 - val_loss: 4.8162e-04 - val_mean_absolute_error: 0.0175 - lr: 1.5625e-04\n",
      "Epoch 89/120\n",
      "44/44 [==============================] - 0s 2ms/step - loss: 6.5778e-04 - mean_absolute_error: 0.0205 - val_loss: 4.7581e-04 - val_mean_absolute_error: 0.0175 - lr: 1.5625e-04\n",
      "Epoch 90/120\n",
      "44/44 [==============================] - 0s 2ms/step - loss: 6.5470e-04 - mean_absolute_error: 0.0204 - val_loss: 4.7515e-04 - val_mean_absolute_error: 0.0174 - lr: 1.5625e-04\n",
      "Epoch 91/120\n",
      "44/44 [==============================] - 0s 2ms/step - loss: 6.6977e-04 - mean_absolute_error: 0.0208 - val_loss: 4.7716e-04 - val_mean_absolute_error: 0.0174 - lr: 1.5625e-04\n",
      "Epoch 92/120\n",
      "44/44 [==============================] - 0s 2ms/step - loss: 6.5296e-04 - mean_absolute_error: 0.0207 - val_loss: 4.7806e-04 - val_mean_absolute_error: 0.0175 - lr: 7.8125e-05\n",
      "Epoch 93/120\n",
      "44/44 [==============================] - 0s 2ms/step - loss: 6.7203e-04 - mean_absolute_error: 0.0207 - val_loss: 4.7430e-04 - val_mean_absolute_error: 0.0174 - lr: 7.8125e-05\n",
      "Epoch 94/120\n",
      "44/44 [==============================] - 0s 2ms/step - loss: 6.6445e-04 - mean_absolute_error: 0.0206 - val_loss: 4.7702e-04 - val_mean_absolute_error: 0.0174 - lr: 7.8125e-05\n",
      "Epoch 95/120\n",
      "44/44 [==============================] - 0s 1ms/step - loss: 6.1466e-04 - mean_absolute_error: 0.0198 - val_loss: 4.7573e-04 - val_mean_absolute_error: 0.0174 - lr: 7.8125e-05\n",
      "Epoch 96/120\n",
      "44/44 [==============================] - 0s 1ms/step - loss: 6.2876e-04 - mean_absolute_error: 0.0201 - val_loss: 4.7422e-04 - val_mean_absolute_error: 0.0174 - lr: 7.8125e-05\n",
      "Epoch 97/120\n",
      "44/44 [==============================] - 0s 2ms/step - loss: 6.5037e-04 - mean_absolute_error: 0.0202 - val_loss: 4.7722e-04 - val_mean_absolute_error: 0.0175 - lr: 7.8125e-05\n",
      "Epoch 98/120\n",
      "44/44 [==============================] - 0s 2ms/step - loss: 6.4752e-04 - mean_absolute_error: 0.0203 - val_loss: 4.7758e-04 - val_mean_absolute_error: 0.0174 - lr: 7.8125e-05\n",
      "Epoch 99/120\n",
      "44/44 [==============================] - 0s 1ms/step - loss: 6.4364e-04 - mean_absolute_error: 0.0202 - val_loss: 4.7778e-04 - val_mean_absolute_error: 0.0175 - lr: 7.8125e-05\n",
      "Epoch 100/120\n",
      "44/44 [==============================] - 0s 2ms/step - loss: 6.4796e-04 - mean_absolute_error: 0.0204 - val_loss: 4.7355e-04 - val_mean_absolute_error: 0.0174 - lr: 7.8125e-05\n",
      "Epoch 101/120\n",
      "44/44 [==============================] - 0s 2ms/step - loss: 6.1017e-04 - mean_absolute_error: 0.0198 - val_loss: 4.7420e-04 - val_mean_absolute_error: 0.0174 - lr: 7.8125e-05\n",
      "Epoch 102/120\n",
      "44/44 [==============================] - 0s 2ms/step - loss: 6.3101e-04 - mean_absolute_error: 0.0202 - val_loss: 4.7483e-04 - val_mean_absolute_error: 0.0174 - lr: 3.9062e-05\n",
      "Epoch 103/120\n",
      "44/44 [==============================] - 0s 2ms/step - loss: 6.4763e-04 - mean_absolute_error: 0.0204 - val_loss: 4.7410e-04 - val_mean_absolute_error: 0.0174 - lr: 3.9062e-05\n",
      "Epoch 104/120\n",
      "44/44 [==============================] - 0s 2ms/step - loss: 6.5710e-04 - mean_absolute_error: 0.0204 - val_loss: 4.7327e-04 - val_mean_absolute_error: 0.0174 - lr: 3.9062e-05\n",
      "Epoch 105/120\n",
      "44/44 [==============================] - 0s 2ms/step - loss: 6.3985e-04 - mean_absolute_error: 0.0203 - val_loss: 4.7104e-04 - val_mean_absolute_error: 0.0174 - lr: 3.9062e-05\n",
      "Epoch 106/120\n",
      "44/44 [==============================] - 0s 2ms/step - loss: 6.4064e-04 - mean_absolute_error: 0.0201 - val_loss: 4.7218e-04 - val_mean_absolute_error: 0.0173 - lr: 3.9062e-05\n",
      "Epoch 107/120\n",
      "44/44 [==============================] - 0s 2ms/step - loss: 6.6204e-04 - mean_absolute_error: 0.0206 - val_loss: 4.7363e-04 - val_mean_absolute_error: 0.0174 - lr: 3.9062e-05\n",
      "Epoch 108/120\n",
      "44/44 [==============================] - 0s 2ms/step - loss: 6.5571e-04 - mean_absolute_error: 0.0206 - val_loss: 4.7518e-04 - val_mean_absolute_error: 0.0174 - lr: 3.9062e-05\n",
      "Epoch 109/120\n",
      "44/44 [==============================] - 0s 1ms/step - loss: 6.4886e-04 - mean_absolute_error: 0.0204 - val_loss: 4.7570e-04 - val_mean_absolute_error: 0.0174 - lr: 3.9062e-05\n",
      "Epoch 110/120\n",
      "44/44 [==============================] - 0s 2ms/step - loss: 6.6107e-04 - mean_absolute_error: 0.0206 - val_loss: 4.7625e-04 - val_mean_absolute_error: 0.0175 - lr: 3.9062e-05\n",
      "Epoch 111/120\n",
      "44/44 [==============================] - 0s 2ms/step - loss: 6.4211e-04 - mean_absolute_error: 0.0201 - val_loss: 4.7666e-04 - val_mean_absolute_error: 0.0175 - lr: 3.9062e-05\n",
      "Epoch 112/120\n",
      "44/44 [==============================] - 0s 2ms/step - loss: 6.6264e-04 - mean_absolute_error: 0.0206 - val_loss: 4.7484e-04 - val_mean_absolute_error: 0.0175 - lr: 1.9531e-05\n",
      "Epoch 113/120\n",
      "44/44 [==============================] - 0s 2ms/step - loss: 6.4854e-04 - mean_absolute_error: 0.0203 - val_loss: 4.7444e-04 - val_mean_absolute_error: 0.0174 - lr: 1.9531e-05\n",
      "Epoch 114/120\n",
      "44/44 [==============================] - 0s 2ms/step - loss: 6.3546e-04 - mean_absolute_error: 0.0201 - val_loss: 4.7369e-04 - val_mean_absolute_error: 0.0174 - lr: 1.9531e-05\n",
      "Epoch 115/120\n",
      "44/44 [==============================] - 0s 2ms/step - loss: 6.3178e-04 - mean_absolute_error: 0.0202 - val_loss: 4.7320e-04 - val_mean_absolute_error: 0.0174 - lr: 1.9531e-05\n",
      "Epoch 116/120\n",
      "44/44 [==============================] - 0s 1ms/step - loss: 6.2715e-04 - mean_absolute_error: 0.0200 - val_loss: 4.7277e-04 - val_mean_absolute_error: 0.0174 - lr: 1.9531e-05\n",
      "Epoch 117/120\n",
      "44/44 [==============================] - 0s 1ms/step - loss: 6.3679e-04 - mean_absolute_error: 0.0202 - val_loss: 4.7170e-04 - val_mean_absolute_error: 0.0174 - lr: 1.9531e-05\n",
      "Epoch 118/120\n",
      "44/44 [==============================] - 0s 2ms/step - loss: 6.5852e-04 - mean_absolute_error: 0.0206 - val_loss: 4.7307e-04 - val_mean_absolute_error: 0.0174 - lr: 1.9531e-05\n",
      "Epoch 119/120\n",
      "44/44 [==============================] - 0s 2ms/step - loss: 6.5204e-04 - mean_absolute_error: 0.0204 - val_loss: 4.7405e-04 - val_mean_absolute_error: 0.0174 - lr: 1.9531e-05\n",
      "Epoch 120/120\n",
      "44/44 [==============================] - 0s 2ms/step - loss: 6.2786e-04 - mean_absolute_error: 0.0201 - val_loss: 4.7249e-04 - val_mean_absolute_error: 0.0174 - lr: 1.9531e-05\n"
     ]
    }
   ],
   "source": [
    "learning_history = best_model_from_params.fit(x_train,\n",
    "                                              y_train,\n",
    "                                              epochs=120,\n",
    "                                              validation_data=(x_val, y_val),\n",
    "                                              callbacks=callbacks)"
   ]
  },
  {
   "cell_type": "code",
   "execution_count": 188,
   "metadata": {},
   "outputs": [
    {
     "name": "stdout",
     "output_type": "stream",
     "text": [
      "Model: \"sequential_19\"\n",
      "_________________________________________________________________\n",
      " Layer (type)                Output Shape              Param #   \n",
      "=================================================================\n",
      " flatten_19 (Flatten)        (None, 16)                0         \n",
      "                                                                 \n",
      " dense_91 (Dense)            (None, 64)                1088      \n",
      "                                                                 \n",
      " dense_92 (Dense)            (None, 64)                4160      \n",
      "                                                                 \n",
      " dense_93 (Dense)            (None, 64)                4160      \n",
      "                                                                 \n",
      " dense_94 (Dense)            (None, 64)                4160      \n",
      "                                                                 \n",
      " dense_95 (Dense)            (None, 2)                 130       \n",
      "                                                                 \n",
      "=================================================================\n",
      "Total params: 13,698\n",
      "Trainable params: 13,698\n",
      "Non-trainable params: 0\n",
      "_________________________________________________________________\n"
     ]
    }
   ],
   "source": [
    "best_model_from_params.summary()"
   ]
  },
  {
   "cell_type": "code",
   "execution_count": 187,
   "metadata": {},
   "outputs": [],
   "source": [
    "learning_df = pd.DataFrame(learning_history.history)\n",
    "learning_df.to_parquet(os.path.join(PATH_TO_HISTORIES, \"no_dropout_120_epochs_history.parquet.gzip\"))"
   ]
  },
  {
   "cell_type": "code",
   "execution_count": 26,
   "metadata": {},
   "outputs": [],
   "source": [
    "initial_epoch = 0"
   ]
  },
  {
   "cell_type": "code",
   "execution_count": 27,
   "metadata": {},
   "outputs": [
    {
     "data": {
      "image/png": "[encoded data removed]",
      "text/plain": [
       "<Figure size 1440x1008 with 2 Axes>"
      ]
     },
     "metadata": {},
     "output_type": "display_data"
    }
   ],
   "source": [
    "plt.style.use('seaborn')\n",
    "fig, axes = plt.subplots(2, 1, figsize=(20, 14))\n",
    "titles = ['Loss curve - MSE', 'Metric - MAE']\n",
    "\n",
    "for index, (metric, values) in enumerate(learning_history.history.items()):\n",
    "\n",
    "    if metric == 'lr':\n",
    "        continue\n",
    "\n",
    "    axes[index % 2].plot([i for i in range(initial_epoch + 2, initial_epoch + len(values))], values[2:], label=metric)\n",
    "    axes[index % 2].legend(fontsize=16)\n",
    "    axes[index % 2].set_title(titles[index % 2], fontsize=20)\n",
    "    # axes[0 if index < 2 else 1].set_title(metric)\n",
    "    # axes[0 if index < 2 else 1, index % 2].plot(values)\n",
    "\n",
    "plt.tight_layout()\n",
    "plt.show()"
   ]
  },
  {
   "cell_type": "code",
   "execution_count": 25,
   "metadata": {},
   "outputs": [],
   "source": [
    "model_name = \"best_model_120_epochs.ckpt\"\n",
    "best_model = tf.keras.models.load_model(os.path.join(PATH_TO_MODEL, model_name))"
   ]
  },
  {
   "attachments": {},
   "cell_type": "markdown",
   "metadata": {},
   "source": [
    "### **Predictions**"
   ]
  },
  {
   "cell_type": "code",
   "execution_count": 26,
   "metadata": {},
   "outputs": [],
   "source": [
    "x_train_preds = best_model.predict(x_train)\n",
    "x_val_preds = best_model.predict(x_val)\n",
    "x_test_preds = best_model.predict(x_test)"
   ]
  },
  {
   "attachments": {},
   "cell_type": "markdown",
   "metadata": {},
   "source": [
    "### **Metrics for train set**"
   ]
  },
  {
   "cell_type": "code",
   "execution_count": 27,
   "metadata": {},
   "outputs": [
    {
     "data": {
      "text/markdown": [
       "#### **MAE: 3.00e-03<br>MSE: 1.54e-05**"
      ],
      "text/plain": [
       "<IPython.core.display.Markdown object>"
      ]
     },
     "metadata": {},
     "output_type": "display_data"
    }
   ],
   "source": [
    "display(Markdown(f\"#### **MAE: {mean_absolute_error(y_train, x_train_preds):.2e}<br>MSE: {mean_squared_error(y_train, x_train_preds):.2e}**\"))"
   ]
  },
  {
   "attachments": {},
   "cell_type": "markdown",
   "metadata": {},
   "source": [
    "### **Metrics for validation set**"
   ]
  },
  {
   "cell_type": "code",
   "execution_count": 28,
   "metadata": {},
   "outputs": [
    {
     "data": {
      "text/markdown": [
       "#### **MAE: 3.11e-03<br>MSE: 1.59e-05**"
      ],
      "text/plain": [
       "<IPython.core.display.Markdown object>"
      ]
     },
     "metadata": {},
     "output_type": "display_data"
    }
   ],
   "source": [
    "display(Markdown(f\"#### **MAE: {mean_absolute_error(y_val, x_val_preds):.2e}<br>MSE: {mean_squared_error(y_val, x_val_preds):.2e}**\"))"
   ]
  },
  {
   "attachments": {},
   "cell_type": "markdown",
   "metadata": {},
   "source": [
    "### **Metrics for test set**"
   ]
  },
  {
   "cell_type": "code",
   "execution_count": 29,
   "metadata": {},
   "outputs": [
    {
     "data": {
      "text/markdown": [
       "#### **MAE: 3.34e-03<br>MSE: 1.95e-05**"
      ],
      "text/plain": [
       "<IPython.core.display.Markdown object>"
      ]
     },
     "metadata": {},
     "output_type": "display_data"
    }
   ],
   "source": [
    "display(Markdown(f\"#### **MAE: {mean_absolute_error(y_test, x_test_preds):.2e}<br>MSE: {mean_squared_error(y_test, x_test_preds):.2e}**\"))"
   ]
  },
  {
   "attachments": {},
   "cell_type": "markdown",
   "metadata": {},
   "source": [
    "### **5-fold cross validation**"
   ]
  },
  {
   "cell_type": "code",
   "execution_count": 30,
   "metadata": {},
   "outputs": [],
   "source": [
    "kfold = KFold(n_splits=5, random_state=42, shuffle=True)"
   ]
  },
  {
   "cell_type": "code",
   "execution_count": 31,
   "metadata": {},
   "outputs": [],
   "source": [
    "x_train_b, y_train_b = np.array(x_train_b), np.array(y_train_b)"
   ]
  },
  {
   "cell_type": "code",
   "execution_count": 32,
   "metadata": {},
   "outputs": [],
   "source": [
    "callbacks_kfold = [EarlyStopping(monitor='val_loss', patience=35, restore_best_weights=True),\n",
    "             # CSVLogger(path_to_csv_results, append=True),\n",
    "                   ReduceLROnPlateau(monitor='val_loss', factor=0.5, patience=10)]"
   ]
  },
  {
   "cell_type": "code",
   "execution_count": 33,
   "metadata": {},
   "outputs": [
    {
     "data": {
      "text/markdown": [
       "### **1. fold <br>                         Mean absolute error for train folds: 9.78e-03 <br>                         Mean absolute error for test fold: 1.02e-02 <br>                         Mean squared error for train folds: 1.70e-04 <br>                         Mean squared error for test fold: 1.84e-04<br>**"
      ],
      "text/plain": [
       "<IPython.core.display.Markdown object>"
      ]
     },
     "metadata": {},
     "output_type": "display_data"
    },
    {
     "data": {
      "text/markdown": [
       "### **2. fold <br>                         Mean absolute error for train folds: 8.92e-03 <br>                         Mean absolute error for test fold: 9.47e-03 <br>                         Mean squared error for train folds: 1.38e-04 <br>                         Mean squared error for test fold: 1.54e-04<br>**"
      ],
      "text/plain": [
       "<IPython.core.display.Markdown object>"
      ]
     },
     "metadata": {},
     "output_type": "display_data"
    },
    {
     "data": {
      "text/markdown": [
       "### **3. fold <br>                         Mean absolute error for train folds: 8.97e-03 <br>                         Mean absolute error for test fold: 9.34e-03 <br>                         Mean squared error for train folds: 1.44e-04 <br>                         Mean squared error for test fold: 1.55e-04<br>**"
      ],
      "text/plain": [
       "<IPython.core.display.Markdown object>"
      ]
     },
     "metadata": {},
     "output_type": "display_data"
    },
    {
     "data": {
      "text/markdown": [
       "### **4. fold <br>                         Mean absolute error for train folds: 6.91e-03 <br>                         Mean absolute error for test fold: 7.42e-03 <br>                         Mean squared error for train folds: 8.32e-05 <br>                         Mean squared error for test fold: 9.99e-05<br>**"
      ],
      "text/plain": [
       "<IPython.core.display.Markdown object>"
      ]
     },
     "metadata": {},
     "output_type": "display_data"
    },
    {
     "data": {
      "text/markdown": [
       "### **5. fold <br>                         Mean absolute error for train folds: 8.39e-03 <br>                         Mean absolute error for test fold: 9.01e-03 <br>                         Mean squared error for train folds: 1.23e-04 <br>                         Mean squared error for test fold: 1.45e-04<br>**"
      ],
      "text/plain": [
       "<IPython.core.display.Markdown object>"
      ]
     },
     "metadata": {},
     "output_type": "display_data"
    }
   ],
   "source": [
    "train_MAE_ag, train_MSE_ag, test_MAE_ag, test_MSE_ag = [], [], [], []\n",
    "\n",
    "for fold_index, (train_index, test_index) in enumerate(kfold.split(x_train_b), start=1):\n",
    "\n",
    "    x_train_folds, x_test_fold = x_train_b[train_index], x_train_b[test_index]\n",
    "    y_train_folds, y_test_fold = y_train_b[train_index], y_train_b[test_index]\n",
    "\n",
    "    model = build_model_from_params(n_neurons=model_config['n_neurons'],\n",
    "                                    n_hidden=model_config['n_hidden'],\n",
    "                                    learning_rate=model_config['learning_rate'],\n",
    "                                    dropout=model_config['dropout'])\n",
    "\n",
    "    learning_history = model.fit(x_train_folds,\n",
    "                                 y_train_folds,\n",
    "                                 epochs=120,\n",
    "                                 validation_split=0.2,\n",
    "                                 # validation_data=(x_val, y_val),\n",
    "                                 callbacks=callbacks_kfold,\n",
    "                                 verbose=0)\n",
    "\n",
    "\n",
    "    x_train_folds_preds = model.predict(x_train_folds)\n",
    "    x_test_fold_preds = model.predict(x_test_fold)\n",
    "\n",
    "    train_MAE, train_MSE = mean_absolute_error(y_train_folds, x_train_folds_preds), \\\n",
    "                           mean_squared_error(y_train_folds, x_train_folds_preds)\n",
    "\n",
    "    test_MAE, test_MSE = mean_absolute_error(y_test_fold, x_test_fold_preds), \\\n",
    "                         mean_squared_error(y_test_fold, x_test_fold_preds)\n",
    "\n",
    "    result_for_fold = f\"### **{fold_index}. fold <br> \\\n",
    "                        Mean absolute error for train folds: {train_MAE:.2e} <br> \\\n",
    "                        Mean absolute error for test fold: {test_MAE:.2e} <br> \\\n",
    "                        Mean squared error for train folds: {train_MSE:.2e} <br> \\\n",
    "                        Mean squared error for test fold: {test_MSE:.2e}<br>**\"\n",
    "\n",
    "    display(Markdown(result_for_fold))\n",
    "\n",
    "    train_MAE_ag.append(train_MAE)\n",
    "    train_MSE_ag.append(train_MSE)\n",
    "    test_MAE_ag.append(test_MAE)\n",
    "    test_MSE_ag.append(test_MSE)"
   ]
  },
  {
   "cell_type": "code",
   "execution_count": 34,
   "metadata": {},
   "outputs": [
    {
     "data": {
      "text/markdown": [
       "### **Average MAE for train folds: 8.592e-03 <br>                         Average MAE for test folds: 9.087e-03 <br>                         Average MSE for train folds: 1.315e-04 <br>                         Average MSE for test folds: 1.476e-04**"
      ],
      "text/plain": [
       "<IPython.core.display.Markdown object>"
      ]
     },
     "metadata": {},
     "output_type": "display_data"
    }
   ],
   "source": [
    "average_results = f\"### **Average MAE for train folds: {sum(train_MAE_ag) / len(train_MAE_ag):.3e} <br> \\\n",
    "                        Average MAE for test folds: {sum(test_MAE_ag) / len(test_MAE_ag):.3e} <br> \\\n",
    "                        Average MSE for train folds: {sum(train_MSE_ag) / len(train_MSE_ag):.3e} <br> \\\n",
    "                        Average MSE for test folds: {sum(test_MSE_ag) / len(test_MSE_ag):.3e}**\"\n",
    "\n",
    "display(Markdown(average_results))"
   ]
  },
  {
   "attachments": {},
   "cell_type": "markdown",
   "metadata": {},
   "source": [
    "### **Sample results**"
   ]
  },
  {
   "cell_type": "code",
   "execution_count": 35,
   "metadata": {},
   "outputs": [],
   "source": [
    "real_10_first_rows = y_test.iloc[:10, ].reset_index(drop=True)\n",
    "preds_10_first_rows = pd.DataFrame(best_model.predict(x_test[:10]), columns=[f\"{col}_pred\" for col in y_test.columns])"
   ]
  },
  {
   "cell_type": "code",
   "execution_count": 36,
   "metadata": {},
   "outputs": [
    {
     "data": {
      "text/html": [
       "<div>\n",
       "<style scoped>\n",
       "    .dataframe tbody tr th:only-of-type {\n",
       "        vertical-align: middle;\n",
       "    }\n",
       "\n",
       "    .dataframe tbody tr th {\n",
       "        vertical-align: top;\n",
       "    }\n",
       "\n",
       "    .dataframe thead th {\n",
       "        text-align: right;\n",
       "    }\n",
       "</style>\n",
       "<table border=\"1\" class=\"dataframe\">\n",
       "  <thead>\n",
       "    <tr style=\"text-align: right;\">\n",
       "      <th></th>\n",
       "      <th>x_cord</th>\n",
       "      <th>x_cord_pred</th>\n",
       "      <th>x_diff</th>\n",
       "      <th>y_cord</th>\n",
       "      <th>y_cord_pred</th>\n",
       "      <th>y_diff</th>\n",
       "    </tr>\n",
       "  </thead>\n",
       "  <tbody>\n",
       "    <tr>\n",
       "      <th>0</th>\n",
       "      <td>0.059429</td>\n",
       "      <td>0.059779</td>\n",
       "      <td>0.000351</td>\n",
       "      <td>-0.037740</td>\n",
       "      <td>-0.041111</td>\n",
       "      <td>0.003371</td>\n",
       "    </tr>\n",
       "    <tr>\n",
       "      <th>1</th>\n",
       "      <td>-0.072596</td>\n",
       "      <td>-0.070814</td>\n",
       "      <td>0.001782</td>\n",
       "      <td>-0.042491</td>\n",
       "      <td>-0.042100</td>\n",
       "      <td>0.000391</td>\n",
       "    </tr>\n",
       "    <tr>\n",
       "      <th>2</th>\n",
       "      <td>0.059429</td>\n",
       "      <td>0.060559</td>\n",
       "      <td>0.001131</td>\n",
       "      <td>-0.037740</td>\n",
       "      <td>-0.042826</td>\n",
       "      <td>0.005086</td>\n",
       "    </tr>\n",
       "    <tr>\n",
       "      <th>3</th>\n",
       "      <td>-0.061692</td>\n",
       "      <td>-0.064895</td>\n",
       "      <td>0.003202</td>\n",
       "      <td>0.092123</td>\n",
       "      <td>0.098376</td>\n",
       "      <td>0.006253</td>\n",
       "    </tr>\n",
       "    <tr>\n",
       "      <th>4</th>\n",
       "      <td>-0.125053</td>\n",
       "      <td>-0.129174</td>\n",
       "      <td>0.004121</td>\n",
       "      <td>-0.010289</td>\n",
       "      <td>-0.009446</td>\n",
       "      <td>0.000843</td>\n",
       "    </tr>\n",
       "    <tr>\n",
       "      <th>5</th>\n",
       "      <td>0.028191</td>\n",
       "      <td>0.026310</td>\n",
       "      <td>0.001881</td>\n",
       "      <td>-0.002371</td>\n",
       "      <td>-0.003460</td>\n",
       "      <td>0.001090</td>\n",
       "    </tr>\n",
       "    <tr>\n",
       "      <th>6</th>\n",
       "      <td>0.001668</td>\n",
       "      <td>0.000712</td>\n",
       "      <td>0.000956</td>\n",
       "      <td>0.084732</td>\n",
       "      <td>0.092168</td>\n",
       "      <td>0.007436</td>\n",
       "    </tr>\n",
       "    <tr>\n",
       "      <th>7</th>\n",
       "      <td>0.014929</td>\n",
       "      <td>0.017427</td>\n",
       "      <td>0.002497</td>\n",
       "      <td>0.055170</td>\n",
       "      <td>0.051486</td>\n",
       "      <td>0.003685</td>\n",
       "    </tr>\n",
       "    <tr>\n",
       "      <th>8</th>\n",
       "      <td>-0.108844</td>\n",
       "      <td>-0.102121</td>\n",
       "      <td>0.006724</td>\n",
       "      <td>0.092651</td>\n",
       "      <td>0.093759</td>\n",
       "      <td>0.001109</td>\n",
       "    </tr>\n",
       "    <tr>\n",
       "      <th>9</th>\n",
       "      <td>0.044988</td>\n",
       "      <td>0.051497</td>\n",
       "      <td>0.006508</td>\n",
       "      <td>-0.004482</td>\n",
       "      <td>-0.004715</td>\n",
       "      <td>0.000232</td>\n",
       "    </tr>\n",
       "  </tbody>\n",
       "</table>\n",
       "</div>"
      ],
      "text/plain": [
       "     x_cord  x_cord_pred    x_diff    y_cord  y_cord_pred    y_diff\n",
       "0  0.059429     0.059779  0.000351 -0.037740    -0.041111  0.003371\n",
       "1 -0.072596    -0.070814  0.001782 -0.042491    -0.042100  0.000391\n",
       "2  0.059429     0.060559  0.001131 -0.037740    -0.042826  0.005086\n",
       "3 -0.061692    -0.064895  0.003202  0.092123     0.098376  0.006253\n",
       "4 -0.125053    -0.129174  0.004121 -0.010289    -0.009446  0.000843\n",
       "5  0.028191     0.026310  0.001881 -0.002371    -0.003460  0.001090\n",
       "6  0.001668     0.000712  0.000956  0.084732     0.092168  0.007436\n",
       "7  0.014929     0.017427  0.002497  0.055170     0.051486  0.003685\n",
       "8 -0.108844    -0.102121  0.006724  0.092651     0.093759  0.001109\n",
       "9  0.044988     0.051497  0.006508 -0.004482    -0.004715  0.000232"
      ]
     },
     "execution_count": 36,
     "metadata": {},
     "output_type": "execute_result"
    }
   ],
   "source": [
    "con_results = pd.concat([real_10_first_rows, preds_10_first_rows], axis=1)\n",
    "con_results[\"x_diff\"] = abs(con_results[\"x_cord\"] - con_results[\"x_cord_pred\"])\n",
    "con_results[\"y_diff\"] = abs(con_results[\"y_cord\"] - con_results[\"y_cord_pred\"])\n",
    "con_results = con_results.sort_index(axis=1)\n",
    "con_results"
   ]
  },
  {
   "cell_type": "code",
   "execution_count": 37,
   "metadata": {},
   "outputs": [
    {
     "data": {
      "image/png": "[encoded data removed]",
      "text/plain": [
       "<Figure size 720x720 with 1 Axes>"
      ]
     },
     "metadata": {},
     "output_type": "display_data"
    }
   ],
   "source": [
    "plt.style.use(\"seaborn\")\n",
    "fig, ax = plt.subplots(figsize=(10, 10))\n",
    "ax.scatter(con_results[\"x_cord_pred\"], con_results[\"y_cord_pred\"], color=\"orange\", label=\"predicted cordinates\", edgecolors=\"black\")\n",
    "ax.scatter(con_results[\"x_cord\"], con_results[\"y_cord\"], color=\"blue\", label=\"real cordinates\", edgecolors=\"black\")\n",
    "ax.legend(fontsize=15, shadow=True, frameon=True, loc=6)\n",
    "ax.set_xlabel(\"X\", fontsize=16)\n",
    "ax.set_ylabel(\"Y\", fontsize=16)\n",
    "ax.set_title(\"Some predicted cordinates\", fontsize=18)\n",
    "plt.tight_layout()\n",
    "plt.show()"
   ]
  }
 ],
 "metadata": {
  "kernelspec": {
   "display_name": "base",
   "language": "python",
   "name": "python3"
  },
  "language_info": {
   "codemirror_mode": {
    "name": "ipython",
    "version": 3
   },
   "file_extension": ".py",
   "mimetype": "text/x-python",
   "name": "python",
   "nbconvert_exporter": "python",
   "pygments_lexer": "ipython3",
   "version": "3.9.13 (main, Aug 25 2022, 23:51:50) [MSC v.1916 64 bit (AMD64)]"
  },
  "orig_nbformat": 4,
  "vscode": {
   "interpreter": {
    "hash": "3af084fa46ca06d2a23e4d5db09ff88cab715f76eefcf345e828351b87327e13"
   }
  }
 },
 "nbformat": 4,
 "nbformat_minor": 2
}
